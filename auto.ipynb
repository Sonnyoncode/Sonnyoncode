{
 "cells": [
  {
   "cell_type": "code",
   "execution_count": 1,
   "metadata": {},
   "outputs": [],
   "source": [
    "import os, time, datetime, sched, shutil\n",
    "\n",
    "\"\"\" \n",
    "    Inputs:\n",
    "        start: start time of an interval (string) (hh:mm:ss)\n",
    "        created: created time of an image (string) (hh:mm:ss)\n",
    "        end: end time of an interval (string) (hh:mm:ss)\n",
    "        \n",
    "    Returns:\n",
    "        true if the created time is between the time interval, otherwise returns false\n",
    "\"\"\"\n",
    "def compareTime(start, created, end):\n",
    "    now = datetime.datetime.now()\n",
    "    start = datetime.datetime.strptime(start, \"%H:%M:%S\")\n",
    "    start = now.replace(hour=start.time().hour, minute=start.time().minute, second=start.time().second, microsecond=0)\n",
    "\n",
    "    created = datetime.datetime.strptime(created, \"%H:%M:%S\")\n",
    "    created = now.replace(hour=created.time().hour, minute=created.time().minute, second=created.time().second, microsecond=0)\n",
    "\n",
    "    end = datetime.datetime.strptime(end, \"%H:%M:%S\")\n",
    "    end = now.replace(hour=end.time().hour, minute=end.time().minute, second=end.time().second, microsecond=0)\n",
    "    \n",
    "    if start < created < end:\n",
    "        return True\n",
    "    \n",
    "    return False"
   ]
  },
  {
   "cell_type": "code",
   "execution_count": null,
   "metadata": {},
   "outputs": [],
   "source": [
    "directory = str(os.getcwd())+'\\\\images'\n",
    "current_dir = str(os.getcwd()) + '\\\\11_32_00'\n",
    "\n",
    "for img in os.listdir(directory):\n",
    "    img_path = directory+'\\\\'+img\n",
    "    createdTime = time.ctime(os.path.getctime(img_path)).split()[3]\n",
    "    if compareTime('11:32:00', createdTime, '11:32:30'):\n",
    "            shutil.copy(img_path, current_dir)"
   ]
  },
  {
   "cell_type": "code",
   "execution_count": null,
   "metadata": {},
   "outputs": [],
   "source": [
    "s = sched.scheduler(time.time, time.sleep)\n",
    "\n",
    "\"\"\"\n",
    "    Function that runs every 10 seconds and creates a directory with the current timestamp\n",
    "\"\"\"\n",
    "\n",
    "def repeat(sc):\n",
    "    start = datetime.datetime.now().strftime('%Y-%m-%d %H:%M:%S').split()[1]\n",
    "    start_list = start.split(':')\n",
    "    hours = start_list[0]\n",
    "    mins = start_list[1]\n",
    "    secs = start_list[2]\n",
    "\n",
    "    secs_end = str((int(secs)+10))\n",
    "\n",
    "    end = hours + ':' + mins + ':' + secs_end\n",
    "\n",
    "    os.mkdir(os.getcwd() + '\\\\' + hours + '_' + mins + '_' + secs)\n",
    "\n",
    "    print(start)\n",
    "    print(end)\n",
    "    \n",
    "    s.enter(10, 1, repeat, (sc,))\n",
    "\n",
    "s.enter(60, 1, repeat, (s,))\n",
    "s.run()"
   ]
  }
 ],
 "metadata": {
  "kernelspec": {
   "display_name": "Python 3",
   "language": "python",
   "name": "python3"
  },
  "language_info": {
   "codemirror_mode": {
    "name": "ipython",
    "version": 3
   },
   "file_extension": ".py",
   "mimetype": "text/x-python",
   "name": "python",
   "nbconvert_exporter": "python",
   "pygments_lexer": "ipython3",
   "version": "3.6.2"
  }
 },
 "nbformat": 4,
 "nbformat_minor": 4
}
