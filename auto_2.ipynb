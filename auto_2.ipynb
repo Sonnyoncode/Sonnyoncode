{
 "cells": [
  {
   "cell_type": "code",
   "execution_count": 2,
   "metadata": {},
   "outputs": [],
   "source": [
    "import os, time, datetime, sched, shutil\n",
    "\n",
    "DIR_PATH = str(os.getcwd())+'\\\\images'"
   ]
  },
  {
   "cell_type": "code",
   "execution_count": 42,
   "metadata": {},
   "outputs": [],
   "source": [
    "\"\"\" \n",
    "    Inputs:\n",
    "        start: start time of an interval (string) (hh:mm:ss)\n",
    "        created: created time of an image (string) (hh:mm:ss)\n",
    "        end: end time of an interval (string) (hh:mm:ss)\n",
    "        \n",
    "    Returns:\n",
    "        true if the created time is between the time interval, otherwise returns false\n",
    "\"\"\"\n",
    "def compareTime(start, created, end):\n",
    "    now = datetime.datetime.now()\n",
    "    start = datetime.datetime.strptime(start, \"%H:%M:%S\")\n",
    "    start = now.replace(hour=start.time().hour, minute=start.time().minute, second=start.time().second, microsecond=0)\n",
    "\n",
    "    created = datetime.datetime.strptime(created, \"%H:%M:%S\")\n",
    "    created = now.replace(hour=created.time().hour, minute=created.time().minute, second=created.time().second, microsecond=0)\n",
    "\n",
    "    end = datetime.datetime.strptime(end, \"%H:%M:%S\")\n",
    "    end = now.replace(hour=end.time().hour, minute=end.time().minute, second=end.time().second, microsecond=0)\n",
    "    \n",
    "    \n",
    "    if start < created < end:\n",
    "        return True\n",
    "    \n",
    "    return False\n",
    "\n",
    "\n",
    "def copy_images(dir_path, target_dir, start, end):\n",
    "    for img in os.listdir(dir_path):\n",
    "        img_path = dir_path+'\\\\'+img\n",
    "        createdTime = time.ctime(os.path.getctime(img_path)).split()[3]\n",
    "        if compareTime(start, createdTime, end):\n",
    "            if not os.path.isdir(target_dir):\n",
    "                os.mkdir(target_dir)\n",
    "\n",
    "            shutil.copy(img_path, target_dir)\n",
    "\n",
    "s = sched.scheduler(time.time, time.sleep)\n",
    "\"\"\"\n",
    "    Function that runs every 30 minutes and creates a directory with the current timestamp\n",
    "\"\"\"\n",
    "def repeat(sc):\n",
    "    start = datetime.datetime.now().strftime('%Y-%m-%d %H:%M:%S').split()[1]\n",
    "    start_list = start.split(':')\n",
    "    hours = start_list[0]\n",
    "    mins = start_list[1]\n",
    "    secs = start_list[2]\n",
    "    \n",
    "    totalSecs = ((int(hours) * 60 + int(mins)) * 60 + int(secs)) - (30*60)\n",
    "    totalSecs, secs = divmod(totalSecs, 60)\n",
    "    hours, mins = divmod(totalSecs, 60)\n",
    "    start = str(hours)+':'+str(mins)+':'+str(secs)\n",
    "\n",
    "    totalSecs = ((int(hours) * 60 + int(mins)) * 60 + int(secs)) + (30*60)\n",
    "    totalSecs, sec = divmod(totalSecs, 60)\n",
    "    hr, min = divmod(totalSecs, 60)\n",
    "    \n",
    "    end = str(hr)+':'+str(min)+':'+str(sec)\n",
    "\n",
    "    target_dir = str(hours)+'_'+str(mins)+'_'+str(secs)+'-'+str(hr)+'_'+str(min)+'_'+str(sec)\n",
    "    \n",
    "    target_dir = str(os.getcwd()) + '\\\\' + target_dir\n",
    "\n",
    "    \n",
    "\n",
    "    \n",
    "    copy_images(DIR_PATH, target_dir, start, end)\n",
    "    \n",
    "    s.enter(30, 1, repeat, (sc,))\n"
   ]
  },
  {
   "cell_type": "code",
   "execution_count": 43,
   "metadata": {
    "scrolled": false
   },
   "outputs": [
    {
     "name": "stdout",
     "output_type": "stream",
     "text": [
      "15:43:7 16:12:52 16:13:7\n",
      "15:43:37 16:12:52 16:13:37\n",
      "15:44:7 16:12:52 16:14:7\n",
      "15:44:37 16:12:52 16:14:37\n",
      "15:45:7 16:12:52 16:15:7\n"
     ]
    },
    {
     "ename": "KeyboardInterrupt",
     "evalue": "",
     "output_type": "error",
     "traceback": [
      "\u001b[1;31m---------------------------------------------------------------------------\u001b[0m",
      "\u001b[1;31mKeyboardInterrupt\u001b[0m                         Traceback (most recent call last)",
      "\u001b[1;32m<ipython-input-43-bf49a16db95e>\u001b[0m in \u001b[0;36m<module>\u001b[1;34m\u001b[0m\n\u001b[0;32m      1\u001b[0m \u001b[0ms\u001b[0m\u001b[1;33m.\u001b[0m\u001b[0menter\u001b[0m\u001b[1;33m(\u001b[0m\u001b[1;36m0\u001b[0m\u001b[1;33m,\u001b[0m \u001b[1;36m1\u001b[0m\u001b[1;33m,\u001b[0m \u001b[0mrepeat\u001b[0m\u001b[1;33m,\u001b[0m \u001b[1;33m(\u001b[0m\u001b[0ms\u001b[0m\u001b[1;33m,\u001b[0m\u001b[1;33m)\u001b[0m\u001b[1;33m)\u001b[0m\u001b[1;33m\u001b[0m\u001b[0m\n\u001b[1;32m----> 2\u001b[1;33m \u001b[0ms\u001b[0m\u001b[1;33m.\u001b[0m\u001b[0mrun\u001b[0m\u001b[1;33m(\u001b[0m\u001b[1;33m)\u001b[0m\u001b[1;33m\u001b[0m\u001b[0m\n\u001b[0m",
      "\u001b[1;32mc:\\users\\te455434\\appdata\\local\\programs\\python\\python36\\lib\\sched.py\u001b[0m in \u001b[0;36mrun\u001b[1;34m(self, blocking)\u001b[0m\n\u001b[0;32m    150\u001b[0m                 \u001b[1;32mif\u001b[0m \u001b[1;32mnot\u001b[0m \u001b[0mblocking\u001b[0m\u001b[1;33m:\u001b[0m\u001b[1;33m\u001b[0m\u001b[0m\n\u001b[0;32m    151\u001b[0m                     \u001b[1;32mreturn\u001b[0m \u001b[0mtime\u001b[0m \u001b[1;33m-\u001b[0m \u001b[0mnow\u001b[0m\u001b[1;33m\u001b[0m\u001b[0m\n\u001b[1;32m--> 152\u001b[1;33m                 \u001b[0mdelayfunc\u001b[0m\u001b[1;33m(\u001b[0m\u001b[0mtime\u001b[0m \u001b[1;33m-\u001b[0m \u001b[0mnow\u001b[0m\u001b[1;33m)\u001b[0m\u001b[1;33m\u001b[0m\u001b[0m\n\u001b[0m\u001b[0;32m    153\u001b[0m             \u001b[1;32melse\u001b[0m\u001b[1;33m:\u001b[0m\u001b[1;33m\u001b[0m\u001b[0m\n\u001b[0;32m    154\u001b[0m                 \u001b[0maction\u001b[0m\u001b[1;33m(\u001b[0m\u001b[1;33m*\u001b[0m\u001b[0margument\u001b[0m\u001b[1;33m,\u001b[0m \u001b[1;33m**\u001b[0m\u001b[0mkwargs\u001b[0m\u001b[1;33m)\u001b[0m\u001b[1;33m\u001b[0m\u001b[0m\n",
      "\u001b[1;31mKeyboardInterrupt\u001b[0m: "
     ]
    }
   ],
   "source": [
    "\n",
    "s.enter(0, 1, repeat, (s,))\n",
    "s.run()"
   ]
  },
  {
   "cell_type": "code",
   "execution_count": 5,
   "metadata": {},
   "outputs": [
    {
     "name": "stdout",
     "output_type": "stream",
     "text": [
      "AJSDJASDJ\n"
     ]
    }
   ],
   "source": [
    "if os.path.isdir(str(os.getcwd())+'\\\\18_27_-4-18_27_26'):\n",
    "    print(\"AJSDJASDJ\")"
   ]
  },
  {
   "cell_type": "code",
   "execution_count": null,
   "metadata": {},
   "outputs": [],
   "source": []
  }
 ],
 "metadata": {
  "kernelspec": {
   "display_name": "Python 3",
   "language": "python",
   "name": "python3"
  },
  "language_info": {
   "codemirror_mode": {
    "name": "ipython",
    "version": 3
   },
   "file_extension": ".py",
   "mimetype": "text/x-python",
   "name": "python",
   "nbconvert_exporter": "python",
   "pygments_lexer": "ipython3",
   "version": "3.6.2"
  }
 },
 "nbformat": 4,
 "nbformat_minor": 4
}
