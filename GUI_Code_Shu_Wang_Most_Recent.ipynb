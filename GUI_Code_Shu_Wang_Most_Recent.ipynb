{
 "cells": [
  {
   "cell_type": "code",
   "execution_count": null,
   "metadata": {},
   "outputs": [],
   "source": []
  },
  {
   "cell_type": "code",
   "execution_count": null,
   "metadata": {},
   "outputs": [],
   "source": [
    "# Code to compare directories and place disagreement images in the right directory"
   ]
  },
  {
   "cell_type": "code",
   "execution_count": 3,
   "metadata": {},
   "outputs": [],
   "source": [
    "import os\n",
    "import cv2 as cv\n",
    "from os.path import isfile, join, isdir\n",
    "import shutil\n",
    "from collections import Counter\n"
   ]
  },
  {
   "cell_type": "code",
   "execution_count": 4,
   "metadata": {},
   "outputs": [],
   "source": [
    "os.chdir(r'C:\\Users\\TE356362\\Desktop\\NEW_THINGS\\AI_Microscope_Customer_Tests\\Auto_Winston_Salem\\Codes\\Shu_Wang_Files\\GUI disagreement(1)\\GUI disagreement')"
   ]
  },
  {
   "cell_type": "code",
   "execution_count": 3,
   "metadata": {},
   "outputs": [
    {
     "data": {
      "text/plain": [
       "['.ipynb_checkpoints',\n",
       " 'Aimv_Directory',\n",
       " 'Cognex_Directory',\n",
       " 'disagreement',\n",
       " 'Untitled.ipynb']"
      ]
     },
     "execution_count": 3,
     "metadata": {},
     "output_type": "execute_result"
    }
   ],
   "source": [
    "os.listdir()"
   ]
  },
  {
   "cell_type": "code",
   "execution_count": 6,
   "metadata": {},
   "outputs": [],
   "source": [
    "path1 = \"Aimv_Directory\\\\OK\"\n",
    "path2 = \"Aimv_Directory\\\\NG\"\n",
    "path3 = \"Cognex_Directory\\\\OK\"\n",
    "path4 = \"Cognex_Directory\\\\NG\""
   ]
  },
  {
   "cell_type": "code",
   "execution_count": 7,
   "metadata": {},
   "outputs": [
    {
     "data": {
      "text/plain": [
       "'C:\\\\Users\\\\TE356362\\\\Desktop\\\\NEW_THINGS\\\\AI_Microscope_Customer_Tests\\\\Auto_Winston_Salem\\\\Codes\\\\Shu_Wang_Files\\\\GUI disagreement(1)\\\\GUI disagreement'"
      ]
     },
     "execution_count": 7,
     "metadata": {},
     "output_type": "execute_result"
    }
   ],
   "source": [
    "pwd"
   ]
  },
  {
   "cell_type": "code",
   "execution_count": 8,
   "metadata": {},
   "outputs": [],
   "source": [
    "file_A_OK = os.listdir(path1)\n",
    "file_A_NG = os.listdir(path2)\n",
    "file_C_OK = os.listdir(path3)\n",
    "file_C_NG = os.listdir(path4)"
   ]
  },
  {
   "cell_type": "code",
   "execution_count": 9,
   "metadata": {},
   "outputs": [
    {
     "data": {
      "text/plain": [
       "['Ford_OAT_Good000.jpg',\n",
       " 'Ford_OAT_Good001.jpg',\n",
       " 'Ford_OAT_Good002.jpg',\n",
       " 'Ford_OAT_Good003.jpg',\n",
       " 'Ford_OAT_Good004.jpg',\n",
       " 'Ford_OAT_Good005.jpg']"
      ]
     },
     "execution_count": 9,
     "metadata": {},
     "output_type": "execute_result"
    }
   ],
   "source": [
    "file_A_OK"
   ]
  },
  {
   "cell_type": "code",
   "execution_count": 10,
   "metadata": {},
   "outputs": [
    {
     "data": {
      "text/plain": [
       "Counter({'Ford_OAT_Good000.jpg': 1,\n",
       "         'Ford_OAT_Good001.jpg': 1,\n",
       "         'Ford_OAT_Good002.jpg': 1,\n",
       "         'Ford_OAT_Good003.jpg': 1,\n",
       "         'Ford_OAT_Good004.jpg': 1,\n",
       "         'Ford_OAT_Good005.jpg': 1})"
      ]
     },
     "execution_count": 10,
     "metadata": {},
     "output_type": "execute_result"
    }
   ],
   "source": [
    "Counter(file_A_OK)"
   ]
  },
  {
   "cell_type": "code",
   "execution_count": 11,
   "metadata": {},
   "outputs": [
    {
     "data": {
      "text/plain": [
       "['Ford_OAT_Bad040.jpg',\n",
       " 'Ford_OAT_Bad041.jpg',\n",
       " 'Ford_OAT_Bad042.jpg',\n",
       " 'Ford_OAT_Bad043.jpg',\n",
       " 'Ford_OAT_Bad046.jpg',\n",
       " 'Ford_OAT_Bad047.jpg']"
      ]
     },
     "execution_count": 11,
     "metadata": {},
     "output_type": "execute_result"
    }
   ],
   "source": [
    "file_A_NG"
   ]
  },
  {
   "cell_type": "code",
   "execution_count": 12,
   "metadata": {},
   "outputs": [
    {
     "data": {
      "text/plain": [
       "Counter({'Ford_OAT_Bad040.jpg': 1,\n",
       "         'Ford_OAT_Bad041.jpg': 1,\n",
       "         'Ford_OAT_Bad042.jpg': 1,\n",
       "         'Ford_OAT_Bad043.jpg': 1,\n",
       "         'Ford_OAT_Bad046.jpg': 1,\n",
       "         'Ford_OAT_Bad047.jpg': 1})"
      ]
     },
     "execution_count": 12,
     "metadata": {},
     "output_type": "execute_result"
    }
   ],
   "source": [
    "Counter(file_A_NG)"
   ]
  },
  {
   "cell_type": "code",
   "execution_count": 13,
   "metadata": {},
   "outputs": [
    {
     "data": {
      "text/plain": [
       "['Ford_OAT_Bad046.jpg',\n",
       " 'Ford_OAT_Bad047.jpg',\n",
       " 'Ford_OAT_Good000.jpg',\n",
       " 'Ford_OAT_Good001.jpg',\n",
       " 'Ford_OAT_Good002.jpg',\n",
       " 'Ford_OAT_Good003.jpg',\n",
       " 'Ford_OAT_Good004.jpg',\n",
       " 'Ford_OAT_Good005.jpg']"
      ]
     },
     "execution_count": 13,
     "metadata": {},
     "output_type": "execute_result"
    }
   ],
   "source": [
    "file_C_OK"
   ]
  },
  {
   "cell_type": "code",
   "execution_count": 14,
   "metadata": {},
   "outputs": [
    {
     "data": {
      "text/plain": [
       "Counter({'Ford_OAT_Bad046.jpg': 1,\n",
       "         'Ford_OAT_Bad047.jpg': 1,\n",
       "         'Ford_OAT_Good000.jpg': 1,\n",
       "         'Ford_OAT_Good001.jpg': 1,\n",
       "         'Ford_OAT_Good002.jpg': 1,\n",
       "         'Ford_OAT_Good003.jpg': 1,\n",
       "         'Ford_OAT_Good004.jpg': 1,\n",
       "         'Ford_OAT_Good005.jpg': 1})"
      ]
     },
     "execution_count": 14,
     "metadata": {},
     "output_type": "execute_result"
    }
   ],
   "source": [
    "Counter(file_C_OK)"
   ]
  },
  {
   "cell_type": "code",
   "execution_count": 15,
   "metadata": {},
   "outputs": [
    {
     "data": {
      "text/plain": [
       "['Ford_OAT_Bad040.jpg',\n",
       " 'Ford_OAT_Bad041.jpg',\n",
       " 'Ford_OAT_Bad042.jpg',\n",
       " 'Ford_OAT_Bad043.jpg']"
      ]
     },
     "execution_count": 15,
     "metadata": {},
     "output_type": "execute_result"
    }
   ],
   "source": [
    "file_C_NG"
   ]
  },
  {
   "cell_type": "code",
   "execution_count": 16,
   "metadata": {},
   "outputs": [
    {
     "data": {
      "text/plain": [
       "Counter({'Ford_OAT_Bad040.jpg': 1,\n",
       "         'Ford_OAT_Bad041.jpg': 1,\n",
       "         'Ford_OAT_Bad042.jpg': 1,\n",
       "         'Ford_OAT_Bad043.jpg': 1})"
      ]
     },
     "execution_count": 16,
     "metadata": {},
     "output_type": "execute_result"
    }
   ],
   "source": [
    "Counter(file_C_NG)"
   ]
  },
  {
   "cell_type": "code",
   "execution_count": null,
   "metadata": {},
   "outputs": [],
   "source": []
  },
  {
   "cell_type": "code",
   "execution_count": 17,
   "metadata": {},
   "outputs": [
    {
     "data": {
      "text/plain": [
       "[]"
      ]
     },
     "execution_count": 17,
     "metadata": {},
     "output_type": "execute_result"
    }
   ],
   "source": [
    "list(Counter(file_A_OK) - Counter(file_C_OK))"
   ]
  },
  {
   "cell_type": "code",
   "execution_count": 18,
   "metadata": {},
   "outputs": [
    {
     "data": {
      "text/plain": [
       "[]"
      ]
     },
     "execution_count": 18,
     "metadata": {},
     "output_type": "execute_result"
    }
   ],
   "source": [
    "list(Counter(file_C_NG) - Counter(file_A_NG))"
   ]
  },
  {
   "cell_type": "code",
   "execution_count": 19,
   "metadata": {},
   "outputs": [
    {
     "data": {
      "text/plain": [
       "['Ford_OAT_Bad046.jpg', 'Ford_OAT_Bad047.jpg']"
      ]
     },
     "execution_count": 19,
     "metadata": {},
     "output_type": "execute_result"
    }
   ],
   "source": [
    "list(Counter(file_A_NG) - Counter(file_C_NG))"
   ]
  },
  {
   "cell_type": "code",
   "execution_count": 20,
   "metadata": {},
   "outputs": [
    {
     "data": {
      "text/plain": [
       "['Ford_OAT_Bad046.jpg', 'Ford_OAT_Bad047.jpg']"
      ]
     },
     "execution_count": 20,
     "metadata": {},
     "output_type": "execute_result"
    }
   ],
   "source": [
    "list(Counter(file_C_OK) - Counter(file_A_OK))"
   ]
  },
  {
   "cell_type": "code",
   "execution_count": null,
   "metadata": {},
   "outputs": [],
   "source": []
  },
  {
   "cell_type": "code",
   "execution_count": 22,
   "metadata": {},
   "outputs": [],
   "source": [
    "AOK_CNG1 = list((Counter(file_A_OK) - Counter(file_C_OK)).elements()) #OK in AIMV but NG in Cognex\n",
    "AOK_CNG2 = list((Counter(file_C_NG) - Counter(file_A_NG)).elements()) #NG in Cognex but OK in AIMV\n",
    "\n",
    "ANG_COK1 = list((Counter(file_A_NG) - Counter(file_C_NG)).elements()) #NG in AIMV but OK in Cognex\n",
    "ANG_COK2 = list((Counter(file_C_OK) - Counter(file_A_OK)).elements()) #OK in Cognex but NG in AIMV"
   ]
  },
  {
   "cell_type": "code",
   "execution_count": 23,
   "metadata": {},
   "outputs": [
    {
     "data": {
      "text/plain": [
       "[]"
      ]
     },
     "execution_count": 23,
     "metadata": {},
     "output_type": "execute_result"
    }
   ],
   "source": [
    "AOK_CNG1"
   ]
  },
  {
   "cell_type": "code",
   "execution_count": 24,
   "metadata": {},
   "outputs": [
    {
     "data": {
      "text/plain": [
       "[]"
      ]
     },
     "execution_count": 24,
     "metadata": {},
     "output_type": "execute_result"
    }
   ],
   "source": [
    "AOK_CNG2 "
   ]
  },
  {
   "cell_type": "code",
   "execution_count": 25,
   "metadata": {},
   "outputs": [
    {
     "data": {
      "text/plain": [
       "['Ford_OAT_Bad046.jpg', 'Ford_OAT_Bad047.jpg']"
      ]
     },
     "execution_count": 25,
     "metadata": {},
     "output_type": "execute_result"
    }
   ],
   "source": [
    "ANG_COK1"
   ]
  },
  {
   "cell_type": "code",
   "execution_count": 26,
   "metadata": {},
   "outputs": [
    {
     "data": {
      "text/plain": [
       "['Ford_OAT_Bad046.jpg', 'Ford_OAT_Bad047.jpg']"
      ]
     },
     "execution_count": 26,
     "metadata": {},
     "output_type": "execute_result"
    }
   ],
   "source": [
    "ANG_COK2"
   ]
  },
  {
   "cell_type": "code",
   "execution_count": null,
   "metadata": {},
   "outputs": [],
   "source": []
  },
  {
   "cell_type": "code",
   "execution_count": 27,
   "metadata": {
    "scrolled": true
   },
   "outputs": [],
   "source": [
    "des1 = \"disagreement\\\\AIMV_OK&Cognex_NG\"\n",
    "des2 = \"disagreement\\\\AIMV_NG&Cognex_OK\""
   ]
  },
  {
   "cell_type": "code",
   "execution_count": 28,
   "metadata": {},
   "outputs": [
    {
     "data": {
      "text/plain": [
       "['Ford_OAT_Good000.jpg',\n",
       " 'Ford_OAT_Good001.jpg',\n",
       " 'Ford_OAT_Good002.jpg',\n",
       " 'Ford_OAT_Good003.jpg',\n",
       " 'Ford_OAT_Good004.jpg',\n",
       " 'Ford_OAT_Good005.jpg']"
      ]
     },
     "execution_count": 28,
     "metadata": {},
     "output_type": "execute_result"
    }
   ],
   "source": [
    "file_A_OK"
   ]
  },
  {
   "cell_type": "code",
   "execution_count": 29,
   "metadata": {},
   "outputs": [
    {
     "data": {
      "text/plain": [
       "['Ford_OAT_Bad040.jpg',\n",
       " 'Ford_OAT_Bad041.jpg',\n",
       " 'Ford_OAT_Bad042.jpg',\n",
       " 'Ford_OAT_Bad043.jpg',\n",
       " 'Ford_OAT_Bad046.jpg',\n",
       " 'Ford_OAT_Bad047.jpg']"
      ]
     },
     "execution_count": 29,
     "metadata": {},
     "output_type": "execute_result"
    }
   ],
   "source": [
    "file_A_NG"
   ]
  },
  {
   "cell_type": "code",
   "execution_count": 30,
   "metadata": {},
   "outputs": [
    {
     "data": {
      "text/plain": [
       "['Ford_OAT_Bad046.jpg',\n",
       " 'Ford_OAT_Bad047.jpg',\n",
       " 'Ford_OAT_Good000.jpg',\n",
       " 'Ford_OAT_Good001.jpg',\n",
       " 'Ford_OAT_Good002.jpg',\n",
       " 'Ford_OAT_Good003.jpg',\n",
       " 'Ford_OAT_Good004.jpg',\n",
       " 'Ford_OAT_Good005.jpg']"
      ]
     },
     "execution_count": 30,
     "metadata": {},
     "output_type": "execute_result"
    }
   ],
   "source": [
    "file_C_OK"
   ]
  },
  {
   "cell_type": "code",
   "execution_count": 32,
   "metadata": {},
   "outputs": [
    {
     "data": {
      "text/plain": [
       "['Ford_OAT_Bad040.jpg',\n",
       " 'Ford_OAT_Bad041.jpg',\n",
       " 'Ford_OAT_Bad042.jpg',\n",
       " 'Ford_OAT_Bad043.jpg']"
      ]
     },
     "execution_count": 32,
     "metadata": {},
     "output_type": "execute_result"
    }
   ],
   "source": [
    "file_C_NG"
   ]
  },
  {
   "cell_type": "code",
   "execution_count": 42,
   "metadata": {},
   "outputs": [
    {
     "data": {
      "text/plain": [
       "'disagreement\\\\AIMV_OK&Cognex_NG'"
      ]
     },
     "execution_count": 42,
     "metadata": {},
     "output_type": "execute_result"
    }
   ],
   "source": [
    "des1"
   ]
  },
  {
   "cell_type": "code",
   "execution_count": 43,
   "metadata": {},
   "outputs": [],
   "source": [
    "try:\n",
    "    if not os.path.exists(des1):\n",
    "        os.mkdir(des1)\n",
    "\n",
    "        for img in AOK_CNG1:\n",
    "\n",
    "            shutil.copy(path1 + \"\\\\\" + img, des1)\n",
    "\n",
    "        for img in AOK_CNG2:\n",
    "\n",
    "            shutil.copy(path4 + \"\\\\\" + img, des1)\n",
    "            \n",
    "    else:\n",
    "        \n",
    "        for img in AOK_CNG1:\n",
    "            \n",
    "            shutil.copy(path1 + \"\\\\\" + img, des1)\n",
    "            \n",
    "        for img in AOK_CNG2:\n",
    "            \n",
    "            shutil.copy(path1 + \"\\\\\" + img, des1)\n",
    "            \n",
    "except Exception:\n",
    "    \n",
    "    pass\n",
    "\n",
    "\n",
    "try:\n",
    "    if not os.path.exists(des2):\n",
    "        \n",
    "        os.mkdir(des2)\n",
    "            \n",
    "\n",
    "        for img in ANG_COK1:\n",
    "\n",
    "            shutil.copy(path2 + \"\\\\\" + img, des2)\n",
    "\n",
    "        for img in ANG_COK2:\n",
    "\n",
    "            shutil.copy(path3 + \"\\\\\" + img, des2)\n",
    "            \n",
    "    else:\n",
    "        \n",
    "        for img in ANG_COK1:\n",
    "            \n",
    "            shutil.copy(path2 + \"\\\\\" + img, des2)\n",
    "            \n",
    "        for img in ANG_COK2:\n",
    "\n",
    "            shutil.copy(path3 + \"\\\\\" + img, des2)\n",
    "            \n",
    "except Exception:\n",
    "    \n",
    "    pass\n",
    "            \n",
    "            \n",
    "\n",
    "\n"
   ]
  },
  {
   "cell_type": "code",
   "execution_count": null,
   "metadata": {},
   "outputs": [],
   "source": []
  },
  {
   "cell_type": "code",
   "execution_count": null,
   "metadata": {},
   "outputs": [],
   "source": []
  },
  {
   "cell_type": "code",
   "execution_count": 45,
   "metadata": {},
   "outputs": [
    {
     "data": {
      "text/plain": [
       "'\\nfor img in AOK_CNG1:\\n    shutil.move(path1 + \"\\\\\" + img, des1)\\n    \\nfor img in AOK_CNG2:\\n    shutil.move(path4 + \"\\\\\" + img, des1)\\n    \\nfor img in ANG_COK1:\\n    shutil.move(path2 + \"\\\\\" + img, des2)\\n\\nfor img in ANG_COK2:\\n    shutil.move(path3 + \"\\\\\" + img, des2)\\n    \\n'"
      ]
     },
     "execution_count": 45,
     "metadata": {},
     "output_type": "execute_result"
    }
   ],
   "source": [
    "'''\n",
    "for img in AOK_CNG1:\n",
    "    shutil.move(path1 + \"\\\\\" + img, des1)\n",
    "    \n",
    "for img in AOK_CNG2:\n",
    "    shutil.move(path4 + \"\\\\\" + img, des1)\n",
    "    \n",
    "for img in ANG_COK1:\n",
    "    shutil.move(path2 + \"\\\\\" + img, des2)\n",
    "\n",
    "for img in ANG_COK2:\n",
    "    shutil.move(path3 + \"\\\\\" + img, des2)\n",
    "    \n",
    "'''"
   ]
  },
  {
   "cell_type": "code",
   "execution_count": null,
   "metadata": {},
   "outputs": [],
   "source": []
  },
  {
   "cell_type": "code",
   "execution_count": null,
   "metadata": {},
   "outputs": [],
   "source": []
  },
  {
   "cell_type": "code",
   "execution_count": null,
   "metadata": {},
   "outputs": [],
   "source": []
  },
  {
   "cell_type": "code",
   "execution_count": null,
   "metadata": {},
   "outputs": [],
   "source": []
  }
 ],
 "metadata": {
  "kernelspec": {
   "display_name": "Python 3",
   "language": "python",
   "name": "python3"
  },
  "language_info": {
   "codemirror_mode": {
    "name": "ipython",
    "version": 3
   },
   "file_extension": ".py",
   "mimetype": "text/x-python",
   "name": "python",
   "nbconvert_exporter": "python",
   "pygments_lexer": "ipython3",
   "version": "3.6.2"
  }
 },
 "nbformat": 4,
 "nbformat_minor": 4
}
