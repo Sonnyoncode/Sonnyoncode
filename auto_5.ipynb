{
 "cells": [
  {
   "cell_type": "code",
   "execution_count": null,
   "metadata": {},
   "outputs": [],
   "source": [
    "import os, time, datetime, sched, shutil\n",
    "import pandas as pd\n",
    "import openpyxl\n",
    "\n",
    "DIR_PATH = str(os.getcwd())+'\\\\images'"
   ]
  },
  {
   "cell_type": "code",
   "execution_count": null,
   "metadata": {},
   "outputs": [],
   "source": [
    "df = pd.DataFrame([])"
   ]
  },
  {
   "cell_type": "code",
   "execution_count": null,
   "metadata": {},
   "outputs": [],
   "source": [
    "\"\"\" \n",
    "    Inputs:\n",
    "        start: start time of an interval (string) (hh:mm:ss)\n",
    "        created: created time of an image (string) (hh:mm:ss)\n",
    "        end: end time of an interval (string) (hh:mm:ss)\n",
    "        \n",
    "    Returns:\n",
    "        true if the created time is between the time interval, otherwise returns false\n",
    "\"\"\"\n",
    "def compareTime(start, created, end, currentDate, createdDate):    \n",
    "    now = datetime.datetime.now()\n",
    "    start = datetime.datetime.strptime(start, \"%H:%M:%S\")\n",
    "    start = now.replace(hour=start.time().hour, minute=start.time().minute, second=start.time().second, microsecond=0)\n",
    "\n",
    "    created = datetime.datetime.strptime(created, \"%H:%M:%S\")\n",
    "    created = now.replace(\n",
    "                          hour=created.time().hour, \n",
    "                          minute=created.time().minute, \n",
    "                          second=created.time().second, microsecond=0)\n",
    "\n",
    "    end = datetime.datetime.strptime(end, \"%H:%M:%S\")\n",
    "    end = now.replace(hour=end.time().hour, minute=end.time().minute, second=end.time().second, microsecond=0)\n",
    "    \n",
    "    if start < created < end and createdDate == currentDate:\n",
    "        return True\n",
    "    \n",
    "    return False\n",
    "\n",
    "\n",
    "def move_images(dir_path, target_dir, start, end, currentDate, df):\n",
    "    xlsx_changed = False\n",
    "    for img in os.listdir(dir_path):\n",
    "        img_path = dir_path+'\\\\'+img\n",
    "        \n",
    "        timeStamp = time.ctime(os.path.getctime(img_path)).split()\n",
    "        \n",
    "        createdDate = timeStamp[1] + '-' + timeStamp[2] + '-' + timeStamp[4]\n",
    "        createdDate = time.strftime(\"%Y-%m-%d\", time.strptime(createdDate, \"%b-%d-%Y\")) \n",
    "        \n",
    "        createdTime = timeStamp[3]\n",
    "        \n",
    "        if compareTime(start, createdTime, end, currentDate, createdDate):\n",
    "            if not os.path.isdir(target_dir):\n",
    "                os.mkdir(target_dir)\n",
    "            \n",
    "            xlsx_changed = True\n",
    "            df = df.append({'createdDate': createdDate, 'createdTime': createdTime, 'location': img_path} , ignore_index=True)\n",
    "            shutil.move(img_path, target_dir)\n",
    "    \n",
    "    if xlsx_changed:\n",
    "        try:\n",
    "            df.to_excel('output.xlsx') \n",
    "        except:\n",
    "            print('The xlsx file is open, saving changes in the next time interval')\n",
    "    \n",
    "    return df\n",
    "\n",
    "s = sched.scheduler(time.time, time.sleep)\n",
    "\n",
    "\"\"\"\n",
    "    Function that runs every 30 minutes and creates a directory with the current timestamp\n",
    "\"\"\"\n",
    "def repeat(sc, df):\n",
    "    print('running')\n",
    "    print(df)\n",
    "    start = datetime.datetime.now().strftime('%H:%M:%S').split()[0]\n",
    "    currentDate = datetime.datetime.now().strftime('%Y-%m-%d').split()[0]\n",
    "    \n",
    "    start_list = start.split(':')\n",
    "    hours = start_list[0]\n",
    "    mins = start_list[1]\n",
    "    secs = start_list[2]\n",
    "    \n",
    "    totalSecs = ((int(hours) * 60 + int(mins)) * 60 + int(secs)) - (30)\n",
    "    totalSecs, secs = divmod(totalSecs, 60)\n",
    "    hours, mins = divmod(totalSecs, 60)\n",
    "    start = str(hours)+':'+str(mins)+':'+str(secs)\n",
    "\n",
    "    totalSecs = ((int(hours) * 60 + int(mins)) * 60 + int(secs)) + (30)\n",
    "    totalSecs, sec = divmod(totalSecs, 60)\n",
    "    hr, min = divmod(totalSecs, 60)\n",
    "    \n",
    "    end = str(hr)+':'+str(min)+':'+str(sec)\n",
    "\n",
    "    target_dir = currentDate + ' ' + str(hours)+'_'+str(mins)+'_'+str(secs)+'-'+str(hr)+'_'+str(min)+'_'+str(sec)\n",
    "    \n",
    "    target_dir = str(os.getcwd()) + '\\\\' + target_dir\n",
    "    \n",
    "    changed_df = move_images(DIR_PATH, target_dir, start, end, currentDate, df)\n",
    "    \n",
    "    df = changed_df\n",
    "    \n",
    "    s.enter(30, 1, repeat, (sc,df))"
   ]
  },
  {
   "cell_type": "code",
   "execution_count": null,
   "metadata": {
    "scrolled": true
   },
   "outputs": [],
   "source": [
    "s.enter(0, 1, repeat, (s,df))\n",
    "s.run()"
   ]
  },
  {
   "cell_type": "code",
   "execution_count": null,
   "metadata": {},
   "outputs": [],
   "source": []
  }
 ],
 "metadata": {
  "kernelspec": {
   "display_name": "Python 3",
   "language": "python",
   "name": "python3"
  },
  "language_info": {
   "codemirror_mode": {
    "name": "ipython",
    "version": 3
   },
   "file_extension": ".py",
   "mimetype": "text/x-python",
   "name": "python",
   "nbconvert_exporter": "python",
   "pygments_lexer": "ipython3",
   "version": "3.6.2"
  }
 },
 "nbformat": 4,
 "nbformat_minor": 4
}
